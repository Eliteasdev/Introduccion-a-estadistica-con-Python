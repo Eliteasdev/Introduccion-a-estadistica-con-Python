{
 "cells": [
  {
   "cell_type": "markdown",
   "id": "da9aea5c",
   "metadata": {},
   "source": [
    "### <span style=\"color:#50fa7b;\">Ejercicio 1</span>\n",
    "Como sabemos la mitosis consiste que una célula o bacteria se divide y origina dos, partiendo de este echo tenemos nos queda la siguiente formula.\n",
    "\n",
    "$N=2^t$\n",
    "\n",
    "Donde $t$ es el tiempo(horas) y $N$ es el número de células o bacterias, entonces ¿Cuánto tiempo\n",
    "necesitamos para que tengamos 2000 organismos celulares?"
   ]
  },
  {
   "cell_type": "code",
   "execution_count": 1,
   "id": "60e25a36",
   "metadata": {},
   "outputs": [
    {
     "name": "stdout",
     "output_type": "stream",
     "text": [
      "11\n"
     ]
    }
   ],
   "source": [
    "import math\n",
    "print(math.ceil(math.log(2000,2)))"
   ]
  },
  {
   "cell_type": "markdown",
   "id": "7a1baba5",
   "metadata": {},
   "source": [
    "### <span style=\"color:#50fa7b;\">Ejercicio 2</span>\n",
    "Resolver y comprobar $Log_2(x-2)+Log_2(x-3)=1$\n",
    "Se aplican las propiedades de los logaritmos:\n",
    "1. Se aplica la propiedad de la suma de logaritmos con la misma base para combinar los términos logarpitmicos.\n",
    "<br>$Log_2((x-2)(x-3))=1$\n",
    "2. Se aplica la inversa de la función logarítmica, que es la función exponencial en base 2 a ambos lado de la ecuación.\n",
    "<br>$2^{Log_2((x-2)(x-3))}=2¹$.\n",
    "<br>Simplificamos la expresión:\n",
    "<br>$(x-2)(x-3)=2$\n",
    "3. Se expande el producto del lado izquierdo de la ecución y se simplifican terminos similares.\n",
    "<br>$x²-3x-2x+6=2$ \n",
    "<br>$x^2-5x+4=0$\n",
    "4. Se factoriza y se obtienen las raices\n",
    "<br>$(x-4)(x-1)=0$\n",
    "<br>$x_1=4$\n",
    "<br>$x_2=1$\n",
    "Debido a que si se usa la segunda raiz obtenemos el logaritmo base 2 de un numero negativo se ha de ocupar la primera raiz $x_2=4$\n",
    "<br>Por lo que se obtiene lo siguiente:\n",
    "<br>$Log_2(2)+Log_2(1)=1$"
   ]
  },
  {
   "cell_type": "code",
   "execution_count": 2,
   "id": "8b239101",
   "metadata": {},
   "outputs": [
    {
     "name": "stdout",
     "output_type": "stream",
     "text": [
      "1.0\n"
     ]
    }
   ],
   "source": [
    "print(math.log(2,2)+math.log(1,2))"
   ]
  },
  {
   "cell_type": "markdown",
   "id": "709b22a8",
   "metadata": {},
   "source": [
    "### <span style=\"color:#50fa7b;\">Ejercicio 3</span>\n",
    "Calcular los cosenos, senos de los siguientes grados:\n",
    "1. 90°\n",
    "2. 135°\n",
    "3. 330°\n",
    "4. 750°\n",
    "\n",
    "Para resolver este ejercicio primero se pasará a radianes los grados, esto con el fin de usar la librería **math**, una vez hecho esto, solo se harán dos listas mas con los valores de sen y cos respectivamente."
   ]
  },
  {
   "cell_type": "code",
   "execution_count": 3,
   "id": "0eb6857e",
   "metadata": {},
   "outputs": [
    {
     "name": "stdout",
     "output_type": "stream",
     "text": [
      "Grados: [90, 135, 330, 750]\n",
      "Radianes: [1.5708, 2.3562, 5.7596, 13.09]\n",
      "Seno: [1.0, 0.7071, -0.5, 0.5]\n",
      "Coseno [0.0, -0.7071, 0.866, 0.866]\n"
     ]
    }
   ],
   "source": [
    "numeroDecimales = 4\n",
    "grados = [90,135,330,750]\n",
    "radianes = [math.radians(grado) for grado in grados]\n",
    "sen = [round(math.sin(radian),numeroDecimales) for radian in radianes]\n",
    "cos = [round(math.cos(radian),numeroDecimales) for radian in radianes]\n",
    "radianes = [round(radian,numeroDecimales) for radian in radianes]\n",
    "print(\"Grados:\", grados)\n",
    "print(\"Radianes:\", radianes)\n",
    "print(\"Seno:\", sen)\n",
    "print(\"Coseno\", cos)"
   ]
  },
  {
   "cell_type": "markdown",
   "id": "5666ec25",
   "metadata": {},
   "source": [
    "### <span style=\"color:#50fa7b;\">Ejercicio 4</span>\n",
    "En cierto estado se decide utilizar tres letras seguidas con tres dígitos para las placas de los\n",
    "automóviles.\n",
    "1. Se no se permiten la repetición de letras y dígitos\n",
    "2. Si se permiten repetición de letras y dígitos"
   ]
  },
  {
   "cell_type": "code",
   "execution_count": 4,
   "id": "19a0a6f9",
   "metadata": {},
   "outputs": [
    {
     "name": "stdout",
     "output_type": "stream",
     "text": [
      "Placas sin repetición 11232000\n",
      "Placas con repetición 17576000\n"
     ]
    }
   ],
   "source": [
    "letras = 26 # Alfabeto inglés\n",
    "digitos = 10 # Sistema decimal\n",
    "print(\"Placas sin repetición\",math.perm(letras,3)*math.perm(digitos,3))\n",
    "print(\"Placas con repetición\", int(math.pow(letras,3)*math.pow(digitos,3)))"
   ]
  },
  {
   "cell_type": "markdown",
   "id": "707d8b82",
   "metadata": {},
   "source": [
    "### <span style=\"color:#50fa7b;\">Ejercicio 5</span>\n",
    "Un grupo de cinco estudiantes, deciden hablar con el departamento de matemáticas para\n",
    "solicitar que esta área ofrezca más cursos de matemáticas discretas, el departamento decide\n",
    "hablar con sólo ahora 3 estudiantes, hay que determinar de cuantas maneras se pueden elegir\n",
    "estos estudiantes sin importar el orden.\n",
    "\n",
    "**Explicación:** Debido a que no se pueden repetir porque se trata de individuos se usan combinaciones."
   ]
  },
  {
   "cell_type": "code",
   "execution_count": 5,
   "id": "9bd3f5ec",
   "metadata": {},
   "outputs": [
    {
     "name": "stdout",
     "output_type": "stream",
     "text": [
      "10\n"
     ]
    }
   ],
   "source": [
    "print(math.comb(5,3))"
   ]
  }
 ],
 "metadata": {
  "kernelspec": {
   "display_name": "Python 3 (ipykernel)",
   "language": "python",
   "name": "python3"
  },
  "language_info": {
   "codemirror_mode": {
    "name": "ipython",
    "version": 3
   },
   "file_extension": ".py",
   "mimetype": "text/x-python",
   "name": "python",
   "nbconvert_exporter": "python",
   "pygments_lexer": "ipython3",
   "version": "3.10.9"
  }
 },
 "nbformat": 4,
 "nbformat_minor": 5
}
