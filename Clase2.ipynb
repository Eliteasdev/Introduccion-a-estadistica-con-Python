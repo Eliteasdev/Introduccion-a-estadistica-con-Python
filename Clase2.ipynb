{
 "cells": [
  {
   "cell_type": "markdown",
   "id": "e0fb3856",
   "metadata": {},
   "source": [
    "## <span style=\"color:#50fa7b;\">Ejercicio 1</span>\n",
    "Llamamos matriz cero y se denota O, la cual contiene muchos ceros, comprobar las siguientes propiedades:\n",
    "<br>a. $A+O = A-O = A$\n",
    "<br>b. $A-A=0$"
   ]
  },
  {
   "cell_type": "code",
   "execution_count": 1,
   "id": "28e2de2d",
   "metadata": {},
   "outputs": [
    {
     "name": "stdout",
     "output_type": "stream",
     "text": [
      "a. Se cumple la propiedad: A+O = A-O = A.\n",
      "b. Se cumple la propiedad A-A = 0.\n"
     ]
    }
   ],
   "source": [
    "import numpy as np\n",
    "\"\"\" \n",
    "Se declaran las matricdes ceros y \n",
    "la matriz A (la cual es una matriz arbitraria de la misma extención de la matriz ceros).\n",
    "\"\"\"\n",
    "A = np.array([[1,4],[-1,3],[2,-9]])\n",
    "ceros=np.zeros((3,2))\n",
    "\n",
    "\"\"\"\n",
    "La comprobacion del inciso a se realiza de la siguiente manera:\n",
    "1. Se comprueba que todos los elementos de la matriz resultante de comprobar si A+ceros=A,\n",
    "dicha matriz debe contener solo Trues si la preposición es correcta. Dicha comprobacion se hace con la\n",
    "función all de numpy.\n",
    "2. Se realiza la misma comprobacion para A-ceros=A.\n",
    "3. Finalmente se multiplican ambas salidas debido a que es una comprobación AND, ambas preposiciones deben\n",
    "ser verdaderas para que se cumpla la propiedad.\n",
    "\"\"\"\n",
    "comprobacion = np.all((A+ceros==A) == True) * np.all((A-ceros==A) == True)\n",
    "print(\"a.\", \"Se cumple la propiedad: A+O = A-O = A.\" if comprobacion else \"No se cumple la propiedad: A+O = A-O = A.\")\n",
    "\n",
    "\"\"\"\n",
    "La comprobacion del inciso b se realiza de la siguiente manera:\n",
    "Se coprueba que en todas las pociciones de la matriz resultante de que comprar a la matriz A-A = O\n",
    "sean True\n",
    "\"\"\"\n",
    "comprobacion = np.all(A-A==ceros)\n",
    "print(\"b.\", \"Se cumple la propiedad A-A = 0.\" if comprobacion else \"No se cumple la propiedad A-A = 0.\")\n",
    "\n"
   ]
  },
  {
   "cell_type": "markdown",
   "id": "8e40bd5b",
   "metadata": {},
   "source": [
    "## <span style=\"color:#50fa7b;\">Ejercicio 2</span>\n",
    "Sea:\n",
    "<br>\n",
    "$\n",
    "A=\n",
    "\\begin{bmatrix}\n",
    "    3 & 0 \\\\\n",
    "    -1 & 5 \n",
    "\\end{bmatrix}\n",
    "$\n",
    "<br>\n",
    "$\n",
    "B=\n",
    "\\begin{bmatrix}\n",
    "    4 & -2 & 1\\\\\n",
    "    0 & 2 & 3\n",
    "\\end{bmatrix}\n",
    "$\n",
    "<br>\n",
    "Realizar:\n",
    "* $A+3B$\n",
    "* $AB$\n",
    "* $A³$\n",
    "* $B²$\n",
    "* $(5A)B$"
   ]
  },
  {
   "cell_type": "code",
   "execution_count": 2,
   "id": "ef078622",
   "metadata": {},
   "outputs": [
    {
     "name": "stdout",
     "output_type": "stream",
     "text": [
      "1.A + 3B\n",
      "[[15 -6  3]\n",
      " [-1 11  9]]\n",
      "--------------------\n",
      "2. AB\n",
      "[[12 -6  3]\n",
      " [-4 12 14]]\n",
      "--------------------\n",
      "3.A^3\n",
      "[[ 27   0]\n",
      " [ -1 125]]\n",
      "--------------------\n",
      "4.B^2\n",
      "[[16  4  1]\n",
      " [ 0  4  9]]\n",
      "--------------------\n",
      "5.(5A)B\n",
      "[[ 60 -30  15]\n",
      " [-20  60  70]]\n"
     ]
    }
   ],
   "source": [
    "#Definimos las metrices con ayuda de numpy\n",
    "A = np.array([[3,0],[-1,5]])\n",
    "B = np.array([[4,-2,1],[0,2,3]])\n",
    "\n",
    "#Primer inciso A + 3B\n",
    "\"\"\"\n",
    "Como no se pueden sumar directamente dos matrices que no tengan las mismas dimencionaes\n",
    "se agregara un 0 en los indices [0][2] y [0][2]. Para insertar los 0 se usa la función\n",
    "inser de numpy, esto devuelve un arreglo de la forma [ 3  0  9 -1  5  9], por lo que \n",
    "lo unico que queda es organizarlo en una matriz de dimenciones (2,3), esto se logra con\n",
    "la función reshape de numpy.\n",
    "Finalmente se suman ambas matrices y se imprime por consola.\n",
    "\"\"\"\n",
    "A1= np.insert(A,(2,4),0)\n",
    "A1 = A1.reshape(2,3)\n",
    "print(\"1.A + 3B\")\n",
    "print(A1+(3*B))\n",
    "\n",
    "#Segundo inciso AB\n",
    "print(\"--------------------\")\n",
    "print(\"2. AB\")\n",
    "print(A@B)\n",
    "\n",
    "#Tercer inciso A^3\n",
    "print(\"--------------------\")\n",
    "print(\"3.A^3\")\n",
    "print(pow(A,3))\n",
    "\n",
    "#Cuarto inciso A^2\n",
    "print(\"--------------------\")\n",
    "print(\"4.B^2\")\n",
    "print(pow(B,2))\n",
    "\n",
    "#Quinto inciso 5A(B)\n",
    "print(\"--------------------\")\n",
    "print(\"5.(5A)B\")\n",
    "print((5*A)@B)"
   ]
  },
  {
   "cell_type": "markdown",
   "id": "b65c519c",
   "metadata": {},
   "source": [
    "## <span style=\"color:#50fa7b;\">Ejercicio 3</span>\n",
    "Dos restaurantes desean comprar frutas para la siguiente semana. La tabla 1 muestra que tipo de fruta y en que cantidades la desean adquirir. Se tienen dos centros comerciales, la tabla 2 muestra sus precios. ¿Cuánto costara comprar las grutas para cada uno de los centros comerciales?\n",
    "|                 | Naranjas | Manzanas | Piñas |\n",
    "|-----------------|----------|----------|-------|\n",
    "| Restaurante Uno | 30       | 15       | 4     |\n",
    "| Restaurante Dos | 25       | 18       | 8     |\n",
    "\n",
    "|                    | Naranjas | Manzanas | Piñas |\n",
    "|--------------------|----------|----------|-------|\n",
    "| Centro comercial 1 | 1.2      | 2.2      | 4.5   |\n",
    "| Centro comercial 2 | 1.3      | 2.1      | 4.6   |\n"
   ]
  },
  {
   "cell_type": "code",
   "execution_count": 3,
   "id": "72ae8358",
   "metadata": {},
   "outputs": [
    {
     "name": "stdout",
     "output_type": "stream",
     "text": [
      "---------- Primer restaurante ----------\n",
      "Primer centro comercial:  [36. 33. 18.]  Total:  87.0\n",
      "Segundo centro comercial: [39.  31.5 18.4]  Total:  88.9\n",
      "Para el primer restaurante es mejor comprar en el primer centro comercial.\n",
      "---------- Segundo restaurante ----------\n",
      "Primer centro comercial:  [30.  39.6 36. ]  Total:  105.6\n",
      "Segundo centro comercial: [32.5 37.8 36.8]  Total:  107.10000000000001\n",
      "Para el segundo restaurante es mejor comprar en el primer centro comercial.\n"
     ]
    }
   ],
   "source": [
    "restaurantes = np.array([[30, 15, 4],[25, 18, 8]])\n",
    "centrosComerciales = np.array([[1.2, 2.2, 4.5],[1.3, 2.1, 4.6]])\n",
    "print(\"---------- Primer restaurante ----------\")\n",
    "print(\"Primer centro comercial: \", restaurantes[0]*centrosComerciales[0], \" Total: \", sum(restaurantes[0]*centrosComerciales[0]))\n",
    "print(\"Segundo centro comercial:\", restaurantes[0]*centrosComerciales[1], \" Total: \", sum(restaurantes[0]*centrosComerciales[1]))\n",
    "print(\"Para el primer restaurante\", \"es mejor comprar en el primer centro comercial.\" if (sum(restaurantes[0]*centrosComerciales[0])<sum(restaurantes[0]*centrosComerciales[1])) else \"es mejor comprar en el segundo centro comercial.\")\n",
    "print(\"---------- Segundo restaurante ----------\")\n",
    "print(\"Primer centro comercial: \", restaurantes[1]*centrosComerciales[0], \" Total: \", sum(restaurantes[1]*centrosComerciales[0]))\n",
    "print(\"Segundo centro comercial:\", restaurantes[1]*centrosComerciales[1], \" Total: \", sum(restaurantes[1]*centrosComerciales[1]))\n",
    "print(\"Para el segundo restaurante\", \"es mejor comprar en el primer centro comercial.\" if (sum(restaurantes[1]*centrosComerciales[0])<sum(restaurantes[1]*centrosComerciales[1])) else \"es mejor comprar en el segundo centro comercial.\")"
   ]
  },
  {
   "cell_type": "markdown",
   "id": "b3d5f27c",
   "metadata": {},
   "source": [
    "## <span style=\"color:#50fa7b;\">Ejercicio 4</span>\n",
    "Una fabrica elabora tres productos (escobas, escobetas y cepillos) y los envía a dos almacenes para su cuidado. Elnúmero de unidades esta dado en la tabla 3.\n",
    "\n",
    "|           | Escobas  | Escobetas| Cepillos |\n",
    "|-----------|----------|----------|----------|\n",
    "| Almacen 1 | 200      | 150      | 100      |\n",
    "| Almacen 2 | 75       | 100      | 125      |\n",
    "\n",
    "El costo de embarcar por camión es por cada cantidad de unidad de escob es 1.50, escobetas 1.0 y cepillos 2.0, el costo por tren es escoba 1.75, escobetas 1.50 y cepillos 1.0. Organizar la información en una matriz para ocupar la multiplicación de matrices, dependiendo de los resultados, indica que le conviene a la empresa embarcar con camión o tren.\n",
    "\n",
    "|           | Escobas  | Escobetas| Cepillos |\n",
    "|-----------|----------|----------|----------|\n",
    "| Camión    | 1.5      | 1.0      | 2.0      |\n",
    "| Tren      | 1.75     | 1.5      | 1.0      |"
   ]
  },
  {
   "cell_type": "code",
   "execution_count": 4,
   "id": "2fcef25d",
   "metadata": {},
   "outputs": [
    {
     "name": "stdout",
     "output_type": "stream",
     "text": [
      "Costos de transporte para el primer almacen:\n",
      " camión:  650.0  | tren:  675.0\n",
      "Pra el primer almacén es mejor transportarlo por camión.\n",
      "-------------------------------------------------------\n",
      "Costos de transporte para el segundo almacen:\n",
      " camión:  462.5  | tren:  406.25\n",
      "Pra el segundo almacén es mejor transportarlo por tren.\n"
     ]
    }
   ],
   "source": [
    "# Definimos las matrices de almacenes y transportes de manera tal que se elementosFilas = elementosColumnas\n",
    "almacenes = np.array([[200, 150, 100] , [75 ,100 , 125]])\n",
    "transportes = np.array([[1.5, 1.75] , [1.0, 1.5] , [2.0, 1.0]])\n",
    "\n",
    "costos = np.matmul(almacenes, transportes)\n",
    "\n",
    "print(\"Costos de transporte para el primer almacen:\\n\", \"camión: \", costos[0,0], \" | tren: \", costos[0,1])\n",
    "print(\"Pra el primer almacén es mejor transportarlo por\", \"camión.\" if costos[0,0] < costos[0,1] else \"tren.\")\n",
    "print(\"-------------------------------------------------------\")\n",
    "print(\"Costos de transporte para el segundo almacen:\\n\", \"camión: \", costos[1,0], \" | tren: \", costos[1,1])\n",
    "print(\"Pra el segundo almacén es mejor transportarlo por\", \"camión.\" if costos[1,0] < costos[1,1] else \"tren.\")"
   ]
  },
  {
   "cell_type": "markdown",
   "id": "93ea6813",
   "metadata": {},
   "source": [
    "## <span style=\"color:#50fa7b;\">Ejercicio 5</span>\n",
    "Resolver los siguientes sistemas de ecuaciones:\n",
    "* Sistema 1\n",
    "<br>$3x+2y=6$\n",
    "<br>$6x+4y=-9$\n",
    "* Sistema 2\n",
    "<br>$x+y=3$\n",
    "<br>$x+4y=1$\n",
    "* Sistema 3\n",
    "<br>$2x-y+2z=3$\n",
    "<br>$2x+3y-z=0$\n",
    "<br>$x+2y+2z=-12$"
   ]
  },
  {
   "cell_type": "code",
   "execution_count": 5,
   "id": "61e2b75f",
   "metadata": {},
   "outputs": [
    {
     "name": "stdout",
     "output_type": "stream",
     "text": [
      "Primer sistema\n",
      "Las ecuaciones no van a coincidir en ningún punto.\n",
      "--------------------\n",
      "Segundo sistema\n",
      "Se intersectan en:  [2.6 0.4]\n",
      "--------------------\n",
      "Tercer sistema\n",
      "Se intersectan en:  [ 3.65217391 -3.7826087  -4.04347826]\n"
     ]
    }
   ],
   "source": [
    "# Función para resolver los sistemas\n",
    "def solve(coeficientes, igualacion):\n",
    "    try:\n",
    "        resultado = np.linalg.solve(coeficientes, igualacion)\n",
    "        print(\"Se intersectan en: \", resultado)\n",
    "    except Exception as e:\n",
    "        print(\"Las ecuaciones no van a coincidir en ningún punto.\")\n",
    "        \n",
    "# Primer sistema\n",
    "print(\"Primer sistema\")\n",
    "solve([[3, 2] , [6, 4]], [6, -9])\n",
    "print(\"--------------------\")\n",
    "\n",
    "# Segundo sistema\n",
    "print(\"Segundo sistema\")\n",
    "solve([[1, 1] , [1, -4]], [3, 1])\n",
    "print(\"--------------------\")\n",
    "\n",
    "# Tercer sistema\n",
    "print(\"Tercer sistema\")\n",
    "solve([[2, -1, 2] , [2, 3, -1], [1, 2, 2]], [3, 0, -12])"
   ]
  }
 ],
 "metadata": {
  "kernelspec": {
   "display_name": "Python 3 (ipykernel)",
   "language": "python",
   "name": "python3"
  },
  "language_info": {
   "codemirror_mode": {
    "name": "ipython",
    "version": 3
   },
   "file_extension": ".py",
   "mimetype": "text/x-python",
   "name": "python",
   "nbconvert_exporter": "python",
   "pygments_lexer": "ipython3",
   "version": "3.10.9"
  }
 },
 "nbformat": 4,
 "nbformat_minor": 5
}
