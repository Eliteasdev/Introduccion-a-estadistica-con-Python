{
 "cells": [
  {
   "cell_type": "code",
   "execution_count": 1,
   "id": "d8fd835d",
   "metadata": {},
   "outputs": [],
   "source": [
    "import matplotlib.pyplot as plt\n",
    "import numpy as np\n",
    "import statistics as sts"
   ]
  },
  {
   "cell_type": "code",
   "execution_count": 2,
   "id": "fa900af1",
   "metadata": {},
   "outputs": [
    {
     "name": "stdout",
     "output_type": "stream",
     "text": [
      "<-----Datos 1----->\n",
      "[128. 129. 129. 129. 131. 131. 131. 132. 133. 135. 136. 137. 137. 142.\n",
      " 142. 142. 143. 144. 145. 146. 146. 146. 146. 146. 147. 150. 151. 152.\n",
      " 152. 156. 159. 159. 159. 160. 162. 162. 162. 163. 166. 166. 167. 168.\n",
      " 172. 172. 173. 175. 178. 178. 179. 180.]\n",
      "<-----Datos 2----->\n",
      "[1.2  1.22 1.23 1.24 1.24 1.25 1.28 1.29 1.29 1.29 1.29 1.3  1.31 1.31\n",
      " 1.32 1.32 1.34 1.35 1.37 1.39 1.39 1.4  1.41 1.41 1.42 1.42 1.44 1.44\n",
      " 1.45 1.49 1.49 1.49 1.5  1.5  1.51 1.51 1.52 1.52 1.53 1.53 1.54 1.55\n",
      " 1.56 1.56 1.57 1.57 1.57 1.58 1.59 1.6 ]\n"
     ]
    }
   ],
   "source": [
    "datos = np.loadtxt(\"./datos.csv\", delimiter=\",\", dtype=np.float32)\n",
    "datos = np.sort(datos)\n",
    "datos2 = np.loadtxt(\"./datos2.csv\", delimiter=\";\", dtype=np.float32)\n",
    "datos2 = np.sort(datos2)\n",
    "print(\"<-----Datos 1----->\")\n",
    "print(datos)\n",
    "print(\"<-----Datos 2----->\")\n",
    "print(datos2)"
   ]
  },
  {
   "cell_type": "code",
   "execution_count": 3,
   "id": "76db4d00",
   "metadata": {
    "scrolled": true
   },
   "outputs": [
    {
     "name": "stdout",
     "output_type": "stream",
     "text": [
      "<-----Maximos----->\n",
      "Datos 1:  180.0\n",
      "Datos 2: 1.6\n"
     ]
    }
   ],
   "source": [
    "print(\"<-----Maximos----->\")\n",
    "print(\"Datos 1: \", np.max(datos))\n",
    "print(\"Datos 2:\", np.max(datos2))"
   ]
  },
  {
   "cell_type": "code",
   "execution_count": 4,
   "id": "c4f85779",
   "metadata": {
    "scrolled": true
   },
   "outputs": [
    {
     "name": "stdout",
     "output_type": "stream",
     "text": [
      "<-----Minimos----->\n",
      "Datos 1:  128.0\n",
      "Datos 2: 1.2\n"
     ]
    }
   ],
   "source": [
    "print(\"<-----Minimos----->\")\n",
    "print(\"Datos 1: \", np.min(datos))\n",
    "print(\"Datos 2:\", np.min(datos2))"
   ]
  },
  {
   "cell_type": "code",
   "execution_count": 5,
   "id": "82b9c19f",
   "metadata": {
    "scrolled": true
   },
   "outputs": [
    {
     "name": "stdout",
     "output_type": "stream",
     "text": [
      "<-----Obtuvieron 125(datos 1), 1.25(datos 2) o mas----->\n",
      "Datos 1:  50\n",
      "Datos 2:  45\n"
     ]
    }
   ],
   "source": [
    "print(\"<-----Obtuvieron 125(datos 1), 1.25(datos 2) o mas----->\")\n",
    "get_125 = np.where(datos>=125,1,0).sum()\n",
    "get_1_25 = np.where(datos2>=1.25,1,0).sum()\n",
    "print(\"Datos 1: \", get_125)\n",
    "print(\"Datos 2: \", get_1_25)"
   ]
  },
  {
   "cell_type": "code",
   "execution_count": 6,
   "id": "b4897ebf",
   "metadata": {
    "scrolled": true
   },
   "outputs": [
    {
     "name": "stdout",
     "output_type": "stream",
     "text": [
      "<-----Obtuvieron 138(datos 1), 1.32(datos 2) o menos----->\n",
      "Datos 1:  13\n",
      "datos 2:  16\n"
     ]
    }
   ],
   "source": [
    "print(\"<-----Obtuvieron 138(datos 1), 1.32(datos 2) o menos----->\")\n",
    "get_138 = np.where(datos<=138,1,0).sum()\n",
    "get_1_32 = np.where(datos2<=1.32,1,0).sum()\n",
    "print(\"Datos 1: \", get_138)\n",
    "print(\"datos 2: \", get_1_32)"
   ]
  },
  {
   "cell_type": "code",
   "execution_count": 7,
   "id": "f6282035",
   "metadata": {},
   "outputs": [
    {
     "name": "stdout",
     "output_type": "stream",
     "text": [
      "<-----Porcentaje de valores (129<= x <=146, dato1), (1.39< x <=141, dato2)----->\n",
      "Datos 1:  46.0 %\n",
      "Datos 2:  6.0 %\n"
     ]
    }
   ],
   "source": [
    "print(\"<-----Porcentaje de valores (129<= x <=146, dato1), (1.39< x <=141, dato2)----->\")\n",
    "porcentaje = np.where((129 <= datos) & (datos <= 146),1,0).sum() / datos.size\n",
    "print(\"Datos 1: \", porcentaje*100, \"%\")\n",
    "porcentaje2 = np.where((1.39 < datos2) & (datos2 <=1.41),1,0).sum() / datos.size\n",
    "print(\"Datos 2: \", porcentaje2*100, \"%\")"
   ]
  },
  {
   "cell_type": "code",
   "execution_count": 8,
   "id": "e9997f88",
   "metadata": {
    "scrolled": true
   },
   "outputs": [
    {
     "name": "stdout",
     "output_type": "stream",
     "text": [
      "<-----Datos 1----->\n",
      "Frecuencias absolutas simples:\n",
      " [1 3 3 1 1 1 1 2 3 1 1 1 5 1 1 1 2 1 3 1 3 1 2 1 1 2 1 1 2 1 1] \n",
      "\n",
      "Frecuencias absolutas acumuladas:\n",
      "\n",
      " [ 1  4  7  8  9 10 11 13 16 17 18 19 24 25 26 27 29 30 33 34 37 38 40 41\n",
      " 42 44 45 46 48 49 50] \n",
      "\n",
      "Frecuencias relativas simples:\n",
      " [ 2.  6.  6.  2.  2.  2.  2.  4.  6.  2.  2.  2. 10.  2.  2.  2.  4.  2.\n",
      "  6.  2.  6.  2.  4.  2.  2.  4.  2.  2.  4.  2.  2.] \n",
      "\n",
      "Frecuencias relativas acumuladas:\n",
      " [  2.   8.  14.  16.  18.  20.  22.  26.  32.  34.  36.  38.  48.  50.\n",
      "  52.  54.  58.  60.  66.  68.  74.  76.  80.  82.  84.  88.  90.  92.\n",
      "  96.  98. 100.] \n",
      "\n",
      "Media aritmpetica: 151.48\n",
      "media geométrica: 150.69\n",
      "Media armónica: 149.90230829714335\n",
      "Mediana: 148.5\n",
      "Moda: 146.0\n",
      "Multiples modas: [146.0] \n",
      "\n",
      "Cuartiles:\n",
      " [137.0, 148.5, 163.75] \n",
      "\n",
      "Deciles:\n",
      " [131.0, 135.2, 142.0, 146.0, 148.5, 157.8, 162.0, 166.8, 174.8] \n",
      "\n",
      "Percentiles:\n",
      " [127.51, 128.02, 128.53, 129.0, 129.0, 129.0, 129.0, 129.16, 130.18, 131.0, 131.0, 131.0, 131.0, 131.14, 131.65, 132.16, 132.67, 133.36, 134.38, 135.2, 135.71, 136.22, 136.73, 137.0, 137.0, 138.3, 140.85, 142.0, 142.0, 142.0, 142.0, 142.32, 142.83, 143.34, 143.85, 144.36, 144.87, 145.38, 145.89, 146.0, 146.0, 146.0, 146.0, 146.0, 146.0, 146.0, 146.0, 146.48, 146.99, 148.5, 150.01, 150.52, 151.03, 151.54, 152.0, 152.0, 152.28, 154.32, 156.27, 157.8, 159.0, 159.0, 159.0, 159.0, 159.15, 159.66, 160.34, 161.36, 162.0, 162.0, 162.0, 162.0, 162.23, 162.74, 163.75, 165.28, 166.0, 166.0, 166.29, 166.8, 167.31, 167.82, 169.32, 171.36, 172.0, 172.0, 172.37, 172.88, 173.78, 174.8, 176.23, 177.76, 178.0, 178.0, 178.45, 178.96, 179.47, 179.98, 180.49] \n",
      "\n"
     ]
    },
    {
     "data": {
      "image/png": "[encoded data removed]",
      "text/plain": [
       "<Figure size 640x480 with 1 Axes>"
      ]
     },
     "metadata": {},
     "output_type": "display_data"
    }
   ],
   "source": [
    "fig,ax = plt.subplots()\n",
    "variables, repetidas = np.unique(datos, return_counts=True)\n",
    "\n",
    "frecuencias_absolutas_simples = repetidas\n",
    "frecuencias_absolutas_acumuladas = np.cumsum(frecuencias_absolutas_simples)\n",
    "frecuencias_relativas_simples = np.round((frecuencias_absolutas_simples / datos.size)*100,2)\n",
    "frecuencias_relativas_acumuladas = np.cumsum(frecuencias_relativas_simples)\n",
    "b = np.append(variables,1)\n",
    "frecuencias = ax.hist(datos, linewidth=.5, edgecolor=\"white\")\n",
    "#ax.set(xlim=(127,181),xticks=np.arange(128,181,1),ylim=(1,6), yticks=np.arange(0,5,6), dtype=np.int16)\n",
    "print(\"<-----Datos 1----->\")\n",
    "print(\"Frecuencias absolutas simples:\\n\", frecuencias_absolutas_simples, \"\\n\")\n",
    "print(\"Frecuencias absolutas acumuladas:\\n\\n\", frecuencias_absolutas_acumuladas, \"\\n\")\n",
    "print(\"Frecuencias relativas simples:\\n\", frecuencias_relativas_simples, \"\\n\")\n",
    "print(\"Frecuencias relativas acumuladas:\\n\", frecuencias_relativas_acumuladas, \"\\n\")\n",
    "# Nota: La relación entre la media aritmética, geométrica y armónica es:\n",
    "# H <= G <= X\n",
    "#media_aritmetica = np.sum(variables * repetidas) / datos.size\n",
    "print(\"Media aritmpetica:\", np.mean(datos))\n",
    "print(\"media geométrica:\", np.round(sts.geometric_mean(datos),2))\n",
    "print(\"Media armónica:\", sts.harmonic_mean(datos))\n",
    "print(\"Mediana:\", np.median(datos))\n",
    "print(\"Moda:\", sts.mode(datos))\n",
    "print(\"Multiples modas:\", sts.multimode(datos),\"\\n\")\n",
    "print(\"Cuartiles:\\n\", [round(q,2) for q in sts.quantiles(datos, n=4)],\"\\n\")\n",
    "print(\"Deciles:\\n\", [round(q,2) for q in sts.quantiles(datos, n=10)],\"\\n\")\n",
    "print(\"Percentiles:\\n\", [round(q,2) for q in sts.quantiles(datos, n=100)],\"\\n\")\n",
    "ax.grid()"
   ]
  },
  {
   "cell_type": "code",
   "execution_count": 9,
   "id": "eddff866",
   "metadata": {},
   "outputs": [
    {
     "name": "stdout",
     "output_type": "stream",
     "text": [
      "<-----Datos 2----->\n",
      "Frecuencias absolutas simples:\n",
      " [1 1 1 2 1 1 4 1 2 2 1 1 1 2 1 2 2 2 1 3 2 2 2 2 1 1 2 3 1 1 1] \n",
      "\n",
      "Frecuencias absolutas acumuladas:\n",
      "\n",
      " [ 1  2  3  5  6  7 11 12 14 16 17 18 19 21 22 24 26 28 29 32 34 36 38 40\n",
      " 41 42 44 47 48 49 50] \n",
      "\n",
      "Frecuencias relativas simples:\n",
      " [2. 2. 2. 4. 2. 2. 8. 2. 4. 4. 2. 2. 2. 4. 2. 4. 4. 4. 2. 6. 4. 4. 4. 4.\n",
      " 2. 2. 4. 6. 2. 2. 2.] \n",
      "\n",
      "Frecuencias relativas acumuladas:\n",
      " [  2.   4.   6.  10.  12.  14.  22.  24.  28.  32.  34.  36.  38.  42.\n",
      "  44.  48.  52.  56.  58.  64.  68.  72.  76.  80.  82.  84.  88.  94.\n",
      "  96.  98. 100.] \n",
      "\n",
      "Media aritmpetica: 1.4177998\n",
      "media geométrica: 1.41\n",
      "Media armónica: 1.4078154270102639\n",
      "Mediana: 1.42\n",
      "Moda: 1.29\n",
      "Multiples modas: [1.29] \n",
      "\n",
      "Cuartiles:\n",
      " [1.31, 1.42, 1.52] \n",
      "\n",
      "Deciles:\n",
      " [1.24, 1.29, 1.32, 1.39, 1.42, 1.49, 1.51, 1.54, 1.57] \n",
      "\n",
      "Percentiles:\n",
      " [1.19, 1.2, 1.21, 1.22, 1.23, 1.23, 1.24, 1.24, 1.24, 1.24, 1.25, 1.25, 1.27, 1.28, 1.29, 1.29, 1.29, 1.29, 1.29, 1.29, 1.29, 1.29, 1.3, 1.3, 1.31, 1.31, 1.31, 1.31, 1.32, 1.32, 1.32, 1.33, 1.34, 1.34, 1.35, 1.36, 1.37, 1.38, 1.39, 1.39, 1.39, 1.39, 1.4, 1.4, 1.41, 1.41, 1.41, 1.41, 1.42, 1.42, 1.42, 1.43, 1.44, 1.44, 1.44, 1.45, 1.45, 1.47, 1.49, 1.49, 1.49, 1.49, 1.49, 1.5, 1.5, 1.5, 1.5, 1.51, 1.51, 1.51, 1.51, 1.52, 1.52, 1.52, 1.52, 1.53, 1.53, 1.53, 1.53, 1.54, 1.54, 1.55, 1.55, 1.56, 1.56, 1.56, 1.56, 1.57, 1.57, 1.57, 1.57, 1.57, 1.57, 1.58, 1.58, 1.59, 1.59, 1.6, 1.6] \n",
      "\n"
     ]
    },
    {
     "data": {
      "image/png": "[encoded data removed]",
      "text/plain": [
       "<Figure size 640x480 with 1 Axes>"
      ]
     },
     "metadata": {},
     "output_type": "display_data"
    }
   ],
   "source": [
    "fig,ax = plt.subplots()\n",
    "variables, repetidas = np.unique(datos2, return_counts=True)\n",
    "\n",
    "frecuencias_absolutas_simples = repetidas\n",
    "frecuencias_absolutas_acumuladas = np.cumsum(frecuencias_absolutas_simples)\n",
    "frecuencias_relativas_simples = np.round((frecuencias_absolutas_simples / datos2.size)*100,2)\n",
    "frecuencias_relativas_acumuladas = np.cumsum(frecuencias_relativas_simples)\n",
    "b = np.append(variables,1)\n",
    "frecuencias = ax.hist(datos2, linewidth=.5, edgecolor=\"white\")\n",
    "#ax.set(xlim=(127,181),xticks=np.arange(128,181,1),ylim=(1,6), yticks=np.arange(0,5,6), dtype=np.int16)\n",
    "print(\"<-----Datos 2----->\")\n",
    "print(\"Frecuencias absolutas simples:\\n\", frecuencias_absolutas_simples, \"\\n\")\n",
    "print(\"Frecuencias absolutas acumuladas:\\n\\n\", frecuencias_absolutas_acumuladas, \"\\n\")\n",
    "print(\"Frecuencias relativas simples:\\n\", frecuencias_relativas_simples, \"\\n\")\n",
    "print(\"Frecuencias relativas acumuladas:\\n\", frecuencias_relativas_acumuladas, \"\\n\")\n",
    "# Nota: La relación entre la media aritmética, geométrica y armónica es:\n",
    "# H <= G <= X\n",
    "#media_aritmetica = np.sum(variables * repetidas) / datos2.size\n",
    "print(\"Media aritmpetica:\", np.mean(datos2))\n",
    "print(\"media geométrica:\", np.round(sts.geometric_mean(datos2),2))\n",
    "print(\"Media armónica:\", sts.harmonic_mean(datos2))\n",
    "print(\"Mediana:\", np.median(datos2))\n",
    "print(\"Moda:\", sts.mode(datos2))\n",
    "print(\"Multiples modas:\", sts.multimode(datos2),\"\\n\")\n",
    "print(\"Cuartiles:\\n\", [round(q,2) for q in sts.quantiles(datos2, n=4)],\"\\n\")\n",
    "print(\"Deciles:\\n\", [round(q,2) for q in sts.quantiles(datos2, n=10)],\"\\n\")\n",
    "print(\"Percentiles:\\n\", [round(q,2) for q in sts.quantiles(datos2, n=100)],\"\\n\")\n",
    "ax.grid()"
   ]
  }
 ],
 "metadata": {
  "kernelspec": {
   "display_name": "Python 3 (ipykernel)",
   "language": "python",
   "name": "python3"
  },
  "language_info": {
   "codemirror_mode": {
    "name": "ipython",
    "version": 3
   },
   "file_extension": ".py",
   "mimetype": "text/x-python",
   "name": "python",
   "nbconvert_exporter": "python",
   "pygments_lexer": "ipython3",
   "version": "3.10.9"
  }
 },
 "nbformat": 4,
 "nbformat_minor": 5
}
